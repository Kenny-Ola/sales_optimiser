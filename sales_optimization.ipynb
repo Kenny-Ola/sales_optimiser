{
 "cells": [
  {
   "cell_type": "code",
   "execution_count": 1,
   "metadata": {},
   "outputs": [
    {
     "ename": "SyntaxError",
     "evalue": "unterminated string literal (detected at line 3) (165574021.py, line 3)",
     "output_type": "error",
     "traceback": [
      "\u001b[0;36m  Cell \u001b[0;32mIn[1], line 3\u001b[0;36m\u001b[0m\n\u001b[0;31m    This notebook demonstrates the implementation of a Bayesian Optimization model to enhance sales performance and cost management for businesses. We'll use historical sales data to provide data-driven insights and automate decision-making in sales processes.\u001b[0m\n\u001b[0m                                                                                                                                                      ^\u001b[0m\n\u001b[0;31mSyntaxError\u001b[0m\u001b[0;31m:\u001b[0m unterminated string literal (detected at line 3)\n"
     ]
    }
   ],
   "source": [
    "# AI-Driven Sales Optimizer\n",
    "\n",
    "# This notebook demonstrates the implementation of a Bayesian Optimization model to enhance sales performance and cost management for businesses. We'll use historical sales data to provide data-driven insights and automate decision-making in sales processes.\n",
    "\n",
    "# python\n",
    "# Import necessary libraries\n",
    "import pandas as pd\n",
    "import numpy as np\n",
    "from skopt import gp_minimize\n",
    "from skopt.space import Real\n",
    "from skopt.utils import use_named_args\n",
    "import matplotlib.pyplot as plt\n",
    "from mpl_toolkits.mplot3d import Axes3D\n",
    "import json\n",
    "from datetime import datetime\n",
    "\n",
    "print(\"Libraries imported successfully.\")\n"
   ]
  },
  {
   "cell_type": "code",
   "execution_count": null,
   "metadata": {},
   "outputs": [],
   "source": [
    "# Load sales dataset\n",
    "sales_data = pd.read_csv('sales_data.csv')\n",
    "\n",
    "# Display first few rows and basic info\n",
    "print(\"First few rows of the dataset:\")\n",
    "print(sales_data.head())\n",
    "print(\"\\nDataset info:\")\n",
    "print(sales_data.info())\n",
    "\n",
    "# Basic statistical summary\n",
    "print(\"\\nStatistical summary of numerical columns:\")\n",
    "print(sales_data.describe())"
   ]
  },
  {
   "cell_type": "code",
   "execution_count": null,
   "metadata": {},
   "outputs": [],
   "source": [
    "# Calculate profit\n",
    "sales_data['Profit'] = sales_data['Revenue'] - sales_data['Cost']\n",
    "\n",
    "print(\"Profit calculated. Updated dataset head:\")\n",
    "print(sales_data.head())\n",
    "\n",
    "# Check for any missing values\n",
    "print(\"\\nMissing values in the dataset:\")\n",
    "print(sales_data.isnull().sum())\n",
    "\n",
    "# If there are missing values, you might want to handle them here\n",
    "# For example: sales_data = sales_data.dropna()"
   ]
  },
  {
   "cell_type": "code",
   "execution_count": null,
   "metadata": {},
   "outputs": [],
   "source": [
    "# Define objective function for Bayesian Optimization\n",
    "@use_named_args(dimensions=[Real(0, sales_data['Sales'].max(), name='sales_target'), \n",
    "                            Real(0, sales_data['Cost'].max(), name='cost_target')])\n",
    "def sales_optimization(sales_target, cost_target):\n",
    "    sales_diff = np.abs(sales_data['Sales'] - sales_target).sum()\n",
    "    cost_diff = np.abs(sales_data['Cost'] - cost_target).sum()\n",
    "    profit = sales_data['Profit'].sum()\n",
    "    return -(profit - (sales_diff + cost_diff))\n",
    "\n",
    "print(\"Optimization function defined.\")"
   ]
  },
  {
   "cell_type": "code",
   "execution_count": null,
   "metadata": {},
   "outputs": [],
   "source": [
    "# Run Bayesian Optimization\n",
    "result = gp_minimize(sales_optimization, \n",
    "                     dimensions=[Real(0, sales_data['Sales'].max()), \n",
    "                                 Real(0, sales_data['Cost'].max())],\n",
    "                     n_calls=100, \n",
    "                     random_state=42)\n",
    "\n",
    "print(\"Optimization complete. Printing results...\")\n",
    "print(f\"Optimized Sales Target: ${result.x[0]:,.2f}\")\n",
    "print(f\"Optimized Cost Target: ${result.x[1]:,.2f}\")\n",
    "print(f\"Estimated Profit: ${-result.fun:,.2f}\")"
   ]
  },
  {
   "cell_type": "code",
   "execution_count": null,
   "metadata": {},
   "outputs": [],
   "source": [
    "current_profit = sales_data['Profit'].sum()\n",
    "optimized_profit = -result.fun\n",
    "improvement = (optimized_profit - current_profit) / current_profit * 100\n",
    "\n",
    "print(f\"Current Total Profit: ${current_profit:,.2f}\")\n",
    "print(f\"Optimized Total Profit: ${optimized_profit:,.2f}\")\n",
    "print(f\"Potential Improvement: {improvement:.2f}%\")\n",
    "\n",
    "print(\"\\nInterpretation:\")\n",
    "print(f\"1. By targeting sales of ${result.x[0]:,.2f} and costs of ${result.x[1]:,.2f}, \")\n",
    "print(f\"   we could potentially increase our profit by {improvement:.2f}%.\")\n",
    "print(\"2. This optimization suggests we should focus on high-value sales while keeping costs under control.\")\n",
    "print(\"3. The model provides a clear, data-driven target for our sales and finance teams to work towards.\")"
   ]
  },
  {
   "cell_type": "code",
   "execution_count": null,
   "metadata": {},
   "outputs": [],
   "source": [
    "# Visualization\n",
    "fig = plt.figure(figsize=(12, 8))\n",
    "ax = fig.add_subplot(111, projection='3d')\n",
    "scatter = ax.scatter(sales_data['Sales'], \n",
    "                     sales_data['Cost'], \n",
    "                     sales_data['Revenue'], \n",
    "                     c=sales_data['Profit'], \n",
    "                     cmap='viridis')\n",
    "ax.set_xlabel('Sales')\n",
    "ax.set_ylabel('Cost')\n",
    "ax.set_zlabel('Revenue')\n",
    "plt.colorbar(scatter, label='Profit')\n",
    "plt.title(\"Sales, Cost, Revenue, and Profit Distribution\")\n",
    "\n",
    "# Add optimized point\n",
    "ax.scatter([result.x[0]], [result.x[1]], [optimized_profit], color='red', s=100, label='Optimized Point')\n",
    "\n",
    "plt.legend()\n",
    "plt.show()\n",
    "\n",
    "print(\"Visualization Interpretation:\")\n",
    "print(\"1. The scatter plot shows the relationship between Sales, Cost, Revenue, and Profit.\")\n",
    "print(\"2. Each point represents a sale, with the color indicating the profit (darker colors = higher profit).\")\n",
    "print(\"3. The red point shows our optimized target, demonstrating where we should aim for maximum profit.\")\n",
    "print(\"4. This visualization can help identify patterns and outliers in our sales data.\")"
   ]
  },
  {
   "cell_type": "code",
   "execution_count": null,
   "metadata": {},
   "outputs": [],
   "source": [
    "# Save results\n",
    "results = {\n",
    "    \"sales_target\": float(result.x[0]),\n",
    "    \"cost_target\": float(result.x[1]),\n",
    "    \"estimated_profit\": float(-result.fun),\n",
    "    \"improvement_percentage\": float(improvement)\n",
    "}\n",
    "timestamp = datetime.now().strftime(\"%Y%m%d_%H%M%S\")\n",
    "filename = f\"optimization_results_{timestamp}.json\"\n",
    "\n",
    "with open(filename, \"w\") as f:\n",
    "    json.dump(results, f, indent=2)\n",
    "\n",
    "print(f\"Results saved to {filename}\")\n",
    "print(\"\\nNext Steps:\")\n",
    "print(\"1. Implement these optimized targets in our sales strategy.\")\n",
    "print(\"2. Monitor performance and compare against the estimated improvement.\")\n",
    "print(\"3. Regularly re-run this optimization with updated data to ensure we're always targeting optimal performance.\")\n",
    "print(\"4. Consider incorporating more features (e.g., seasonality, product categories) for more nuanced optimization.\")"
   ]
  }
 ],
 "metadata": {
  "kernelspec": {
   "display_name": "Python 3",
   "language": "python",
   "name": "python3"
  },
  "language_info": {
   "codemirror_mode": {
    "name": "ipython",
    "version": 3
   },
   "file_extension": ".py",
   "mimetype": "text/x-python",
   "name": "python",
   "nbconvert_exporter": "python",
   "pygments_lexer": "ipython3",
   "version": "3.11.10"
  }
 },
 "nbformat": 4,
 "nbformat_minor": 2
}
